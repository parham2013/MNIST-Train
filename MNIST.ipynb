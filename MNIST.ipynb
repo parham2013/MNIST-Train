{
 "cells": [
  {
   "cell_type": "code",
   "execution_count": 59,
   "outputs": [],
   "source": [
    "import torch\n",
    "from torch import nn\n",
    "import torch.nn.functional as F\n",
    "import matplotlib.pyplot as plt\n",
    "import numpy as np\n",
    "from torchvision import datasets, transforms"
   ],
   "metadata": {
    "collapsed": false,
    "ExecuteTime": {
     "end_time": "2023-09-13T01:49:57.219818300Z",
     "start_time": "2023-09-13T01:49:57.201796600Z"
    }
   },
   "id": "c33972f145c6394b"
  },
  {
   "cell_type": "code",
   "execution_count": 60,
   "outputs": [],
   "source": [
    "device = torch.device(\"cuda\" if torch.cuda.is_available() else \"cpu\")"
   ],
   "metadata": {
    "collapsed": false,
    "ExecuteTime": {
     "end_time": "2023-09-13T01:49:57.220817400Z",
     "start_time": "2023-09-13T01:49:57.204806200Z"
    }
   },
   "id": "12cf485638430a28"
  },
  {
   "cell_type": "code",
   "execution_count": 61,
   "id": "initial_id",
   "metadata": {
    "collapsed": true,
    "ExecuteTime": {
     "end_time": "2023-09-13T01:49:57.260855300Z",
     "start_time": "2023-09-13T01:49:57.212820Z"
    }
   },
   "outputs": [],
   "source": [
    "transform = transforms.Compose([transforms.ToTensor(),\n",
    "                                transforms.Normalize((0.5,), (0.5,))])\n",
    "\n",
    "training_dataset = datasets.MNIST(root='./data', train=True, download=True, transform=transform)\n",
    "test_dataset = datasets.MNIST(root='./data', train=False, download=True, transform=transform)"
   ]
  },
  {
   "cell_type": "code",
   "execution_count": 62,
   "outputs": [],
   "source": [
    "# training_loader = torch.utils.data.DataLoader(dataset=training_dataset, batch_size=100, shuffle=True)\n",
    "training_loader = torch.utils.data.DataLoader(dataset=training_dataset, batch_size=100, shuffle=True, pin_memory=True)\n",
    "test_loader = torch.utils.data.DataLoader(test_dataset, batch_size=100)"
   ],
   "metadata": {
    "collapsed": false,
    "ExecuteTime": {
     "end_time": "2023-09-13T01:49:57.260855300Z",
     "start_time": "2023-09-13T01:49:57.251454200Z"
    }
   },
   "id": "a9d2624ddb9e47a3"
  },
  {
   "cell_type": "code",
   "execution_count": 63,
   "outputs": [],
   "source": [
    "def im_convert(tensor):\n",
    "    image = tensor.clone().detach().numpy()\n",
    "    image = image.transpose(1, 2, 0)\n",
    "    image = image * np.array((0.5, 0.5, 0.5)) + np.array((0.5, 0.5, 0.5))\n",
    "    image = image.clip(0, 1)\n",
    "    return image"
   ],
   "metadata": {
    "collapsed": false,
    "ExecuteTime": {
     "end_time": "2023-09-13T01:49:57.260855300Z",
     "start_time": "2023-09-13T01:49:57.258333500Z"
    }
   },
   "id": "c539689b4f8424a3"
  },
  {
   "cell_type": "code",
   "execution_count": 64,
   "outputs": [
    {
     "data": {
      "text/plain": "<Figure size 2500x400 with 20 Axes>",
      "image/png": "[encoded data removed]"
     },
     "metadata": {},
     "output_type": "display_data"
    }
   ],
   "source": [
    "dataiter = iter(training_loader)\n",
    "images, labels = next(dataiter)\n",
    "fig = plt.figure(figsize=(25, 4))\n",
    "\n",
    "for idx in np.arange(20):\n",
    "    ax = fig.add_subplot(2, 10, idx + 1, xticks=[], yticks=[])\n",
    "    plt.imshow(im_convert(images[idx]))\n",
    "    ax.set_title([labels[idx].item()])"
   ],
   "metadata": {
    "collapsed": false,
    "ExecuteTime": {
     "end_time": "2023-09-13T01:49:57.965684500Z",
     "start_time": "2023-09-13T01:49:57.262854700Z"
    }
   },
   "id": "3419809c52814dbc"
  },
  {
   "cell_type": "code",
   "execution_count": 65,
   "outputs": [],
   "source": [
    " class Classifier(nn.Module):\n",
    "    def __init__(self, D_in, H1, H2, D_out):\n",
    "        super().__init__()\n",
    "        self.linear1 = nn.Linear(D_in, H1)\n",
    "        self.linear2 = nn.Linear(H1, H2)\n",
    "        self.linear3 = nn.Linear(H2, D_out)\n",
    "\n",
    "    def forward(self, x):\n",
    "        x = F.relu(self.linear1(x))\n",
    "        x = F.relu(self.linear2(x))\n",
    "        x = self.linear3(x)\n",
    "        return x"
   ],
   "metadata": {
    "collapsed": false,
    "ExecuteTime": {
     "end_time": "2023-09-13T01:49:57.966687Z",
     "start_time": "2023-09-13T01:49:57.963602700Z"
    }
   },
   "id": "d05f0daaa8d004af"
  },
  {
   "cell_type": "code",
   "execution_count": 66,
   "outputs": [
    {
     "data": {
      "text/plain": "Classifier(\n  (linear1): Linear(in_features=784, out_features=125, bias=True)\n  (linear2): Linear(in_features=125, out_features=65, bias=True)\n  (linear3): Linear(in_features=65, out_features=10, bias=True)\n)"
     },
     "execution_count": 66,
     "metadata": {},
     "output_type": "execute_result"
    }
   ],
   "source": [
    "model = Classifier(784, 125, 65, 10).to(device)\n",
    "model"
   ],
   "metadata": {
    "collapsed": false,
    "ExecuteTime": {
     "end_time": "2023-09-13T01:49:57.978354Z",
     "start_time": "2023-09-13T01:49:57.967684800Z"
    }
   },
   "id": "4402bedff597c5fe"
  },
  {
   "cell_type": "code",
   "execution_count": 67,
   "outputs": [],
   "source": [
    "criterion = nn.CrossEntropyLoss()\n",
    "optimizer = torch.optim.Adam(model.parameters(), lr=0.0001)"
   ],
   "metadata": {
    "collapsed": false,
    "ExecuteTime": {
     "end_time": "2023-09-13T01:49:57.983354300Z",
     "start_time": "2023-09-13T01:49:57.975917100Z"
    }
   },
   "id": "d656331ec5aefe86"
  },
  {
   "cell_type": "code",
   "execution_count": 68,
   "outputs": [
    {
     "name": "stdout",
     "output_type": "stream",
     "text": [
      "epoch 1\n",
      "training loss:0.9392, accuracy 75.8450\n",
      "test loss:0.5335, test accuracy 88.0000\n",
      "epoch 2\n",
      "training loss:0.3746, accuracy 89.5383\n",
      "test loss:0.1911, test accuracy 95.0000\n",
      "epoch 3\n",
      "training loss:0.3071, accuracy 91.1950\n",
      "test loss:0.3212, test accuracy 90.0000\n",
      "epoch 4\n",
      "training loss:0.2713, accuracy 92.1467\n",
      "test loss:0.2713, test accuracy 90.0000\n",
      "epoch 5\n",
      "training loss:0.2445, accuracy 92.9400\n",
      "test loss:0.1580, test accuracy 94.0000\n",
      "epoch 6\n",
      "training loss:0.2231, accuracy 93.5783\n",
      "test loss:0.3009, test accuracy 92.0000\n",
      "epoch 7\n",
      "training loss:0.2056, accuracy 94.0717\n",
      "test loss:0.1687, test accuracy 93.0000\n",
      "epoch 8\n",
      "training loss:0.1911, accuracy 94.4267\n",
      "test loss:0.1404, test accuracy 97.0000\n",
      "epoch 9\n",
      "training loss:0.1782, accuracy 94.8517\n",
      "test loss:0.0932, test accuracy 97.0000\n",
      "epoch 10\n",
      "training loss:0.1672, accuracy 95.1517\n",
      "test loss:0.0988, test accuracy 98.0000\n",
      "epoch 11\n",
      "training loss:0.1574, accuracy 95.3533\n",
      "test loss:0.0832, test accuracy 97.0000\n",
      "epoch 12\n",
      "training loss:0.1479, accuracy 95.6583\n",
      "test loss:0.1141, test accuracy 94.0000\n",
      "epoch 13\n",
      "training loss:0.1398, accuracy 95.9267\n",
      "test loss:0.1787, test accuracy 95.0000\n",
      "epoch 14\n",
      "training loss:0.1329, accuracy 96.0917\n",
      "test loss:0.0600, test accuracy 98.0000\n",
      "epoch 15\n",
      "training loss:0.1258, accuracy 96.3483\n",
      "test loss:0.0995, test accuracy 98.0000\n"
     ]
    }
   ],
   "source": [
    "epochs = 15\n",
    "running_loss_history = []\n",
    "running_corrects_history = []\n",
    "\n",
    "test_running_loss_history = []\n",
    "test_running_corrects_history = []\n",
    "\n",
    "for e in range(epochs):\n",
    "\n",
    "    running_loss = 0.0\n",
    "    running_corrects = 0.0\n",
    "\n",
    "    test_running_loss = 0.0\n",
    "    test_running_corrects = 0.0\n",
    "\n",
    "    for inputs, labels in training_loader:\n",
    "        \n",
    "        inputs = inputs.to(device)\n",
    "        labels = labels.to(device)\n",
    "\n",
    "        inputs = inputs.view(inputs.shape[0], -1)\n",
    "        outputs = model(inputs)\n",
    "        loss = criterion(outputs, labels)\n",
    "\n",
    "        optimizer.zero_grad()\n",
    "        loss.backward()\n",
    "        optimizer.step()\n",
    "\n",
    "        _, preds = torch.max(outputs, 1)\n",
    "\n",
    "        running_loss += loss.item()\n",
    "        running_corrects += torch.sum(preds == labels.data)\n",
    "\n",
    "\n",
    "    else:\n",
    "        with torch.no_grad():\n",
    "            for test_inputs, test_labels in test_loader:\n",
    "                \n",
    "                test_inputs = inputs.to(device)\n",
    "                test_labels = labels.to(device)\n",
    "                \n",
    "                test_inputs = test_inputs.view(test_inputs.shape[0], -1)\n",
    "                test_outputs = model(test_inputs)\n",
    "                test_loss = criterion(test_outputs, test_labels)\n",
    "\n",
    "                _, test_preds = torch.max(test_outputs, 1)\n",
    "                test_running_loss += test_loss.item()\n",
    "                test_running_corrects += torch.sum(test_preds == test_labels.data)\n",
    "\n",
    "        epoch_loss = running_loss / len(training_loader)\n",
    "        epoch_accuracy = running_corrects.float() / len(training_loader)\n",
    "\n",
    "        running_loss_history.append(epoch_loss)\n",
    "        running_corrects_history.append(epoch_accuracy)\n",
    "        # ==========================//test//======================\n",
    "        test_epoch_loss = test_running_loss / len(test_loader)\n",
    "        test_epoch_accuracy = test_running_corrects.float() / len(test_loader)\n",
    "\n",
    "        test_running_loss_history.append(test_epoch_loss)\n",
    "        test_running_corrects_history.append(test_epoch_accuracy)\n",
    "\n",
    "        print(f'epoch {e + 1}')\n",
    "        print('training loss:{:.4f}, accuracy {:.4f}'.format(epoch_loss, epoch_accuracy.item()))\n",
    "        print('test loss:{:.4f}, test accuracy {:.4f}'.format(test_epoch_loss, test_epoch_accuracy.item()))"
   ],
   "metadata": {
    "collapsed": false,
    "ExecuteTime": {
     "end_time": "2023-09-13T01:53:24.305976300Z",
     "start_time": "2023-09-13T01:49:57.984354100Z"
    }
   },
   "id": "74129c3383a4410"
  },
  {
   "cell_type": "code",
   "execution_count": 75,
   "outputs": [
    {
     "data": {
      "text/plain": "[<matplotlib.lines.Line2D at 0x18e73a81050>]"
     },
     "execution_count": 75,
     "metadata": {},
     "output_type": "execute_result"
    },
    {
     "data": {
      "text/plain": "<Figure size 640x480 with 1 Axes>",
      "image/png": "[encoded data removed]"
     },
     "metadata": {},
     "output_type": "display_data"
    }
   ],
   "source": [
    "plt.plot(running_loss_history, label='training loss')"
   ],
   "metadata": {
    "collapsed": false,
    "ExecuteTime": {
     "end_time": "2023-09-13T01:56:52.249147300Z",
     "start_time": "2023-09-13T01:56:52.140196500Z"
    }
   },
   "id": "34d2d356c4c42a69"
  },
  {
   "cell_type": "code",
   "execution_count": 78,
   "outputs": [
    {
     "data": {
      "text/plain": "[<matplotlib.lines.Line2D at 0x18e74c81050>]"
     },
     "execution_count": 78,
     "metadata": {},
     "output_type": "execute_result"
    },
    {
     "data": {
      "text/plain": "<Figure size 640x480 with 1 Axes>",
      "image/png": "[encoded data removed]"
     },
     "metadata": {},
     "output_type": "display_data"
    }
   ],
   "source": [
    "# Assuming running_corrects_history is a list of PyTorch tensors\n",
    "# Convert and move tensors to CPU and then convert to NumPy arrays\n",
    "running_corrects_history_numpy = [tensor.cpu().numpy() for tensor in running_corrects_history]\n",
    "\n",
    "plt.plot(running_corrects_history_numpy, label='accuracy')\n"
   ],
   "metadata": {
    "collapsed": false,
    "ExecuteTime": {
     "end_time": "2023-09-13T01:57:34.784548400Z",
     "start_time": "2023-09-13T01:57:34.680169500Z"
    }
   },
   "id": "f44a8405f2f28e88"
  },
  {
   "cell_type": "code",
   "execution_count": null,
   "outputs": [],
   "source": [],
   "metadata": {
    "collapsed": false
   },
   "id": "105bfb71b18f2482"
  }
 ],
 "metadata": {
  "kernelspec": {
   "display_name": "Python 3",
   "language": "python",
   "name": "python3"
  },
  "language_info": {
   "codemirror_mode": {
    "name": "ipython",
    "version": 2
   },
   "file_extension": ".py",
   "mimetype": "text/x-python",
   "name": "python",
   "nbconvert_exporter": "python",
   "pygments_lexer": "ipython2",
   "version": "2.7.6"
  }
 },
 "nbformat": 4,
 "nbformat_minor": 5
}
