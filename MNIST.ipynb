{
 "cells": [
  {
   "cell_type": "code",
   "execution_count": 1,
   "outputs": [],
   "source": [
    "import PIL.ImageOps\n",
    "import torch\n",
    "from torch import nn\n",
    "import torch.nn.functional as F\n",
    "import matplotlib.pyplot as plt\n",
    "import numpy as np\n",
    "from torchvision import datasets, transforms"
   ],
   "metadata": {
    "collapsed": false,
    "ExecuteTime": {
     "end_time": "2023-09-13T03:35:57.604723800Z",
     "start_time": "2023-09-13T03:35:55.525245700Z"
    }
   },
   "id": "c33972f145c6394b"
  },
  {
   "cell_type": "code",
   "execution_count": 2,
   "outputs": [],
   "source": [
    "device = torch.device(\"cuda\" if torch.cuda.is_available() else \"cpu\")"
   ],
   "metadata": {
    "collapsed": false,
    "ExecuteTime": {
     "end_time": "2023-09-13T03:35:57.638644300Z",
     "start_time": "2023-09-13T03:35:57.605720800Z"
    }
   },
   "id": "12cf485638430a28"
  },
  {
   "cell_type": "code",
   "execution_count": 3,
   "id": "initial_id",
   "metadata": {
    "collapsed": true,
    "ExecuteTime": {
     "end_time": "2023-09-13T03:35:57.679756900Z",
     "start_time": "2023-09-13T03:35:57.640637100Z"
    }
   },
   "outputs": [],
   "source": [
    "transform = transforms.Compose([transforms.Resize((28, 28)),\n",
    "                                transforms.ToTensor(),\n",
    "                                transforms.Normalize((0.5,), (0.5,))])\n",
    "\n",
    "training_dataset = datasets.MNIST(root='./data', train=True, download=True, transform=transform)\n",
    "test_dataset = datasets.MNIST(root='./data', train=False, download=True, transform=transform)"
   ]
  },
  {
   "cell_type": "code",
   "execution_count": 4,
   "outputs": [],
   "source": [
    "# training_loader = torch.utils.data.DataLoader(dataset=training_dataset, batch_size=100, shuffle=True)\n",
    "training_loader = torch.utils.data.DataLoader(dataset=training_dataset, batch_size=100, shuffle=True, pin_memory=True)\n",
    "test_loader = torch.utils.data.DataLoader(test_dataset, batch_size=100)"
   ],
   "metadata": {
    "collapsed": false,
    "ExecuteTime": {
     "end_time": "2023-09-13T03:35:57.687220Z",
     "start_time": "2023-09-13T03:35:57.679756900Z"
    }
   },
   "id": "a9d2624ddb9e47a3"
  },
  {
   "cell_type": "code",
   "execution_count": 5,
   "outputs": [],
   "source": [
    "# def im_convert(tensor):\n",
    "#     image = tensor.clone().detach().numpy()\n",
    "#     image = image.transpose(1, 2, 0)\n",
    "#     image = image * np.array((0.5, 0.5, 0.5)) + np.array((0.5, 0.5, 0.5))\n",
    "#     image = image.clip(0, 1)\n",
    "#     return image"
   ],
   "metadata": {
    "collapsed": false,
    "ExecuteTime": {
     "end_time": "2023-09-13T03:35:57.694073Z",
     "start_time": "2023-09-13T03:35:57.684712700Z"
    }
   },
   "id": "c539689b4f8424a3"
  },
  {
   "cell_type": "code",
   "execution_count": 6,
   "outputs": [],
   "source": [
    "# Corrected im_convert function\n",
    "def im_convert(tensor):\n",
    "    if tensor.is_cuda:\n",
    "        tensor = tensor.cpu()\n",
    "    image = tensor.clone().detach().numpy()\n",
    "    image = image.transpose(1, 2, 0)\n",
    "    image = image * np.array((0.5, 0.5, 0.5)) + np.array((0.5, 0.5, 0.5))\n",
    "    return image\n"
   ],
   "metadata": {
    "collapsed": false,
    "ExecuteTime": {
     "end_time": "2023-09-13T03:35:57.694073Z",
     "start_time": "2023-09-13T03:35:57.689219100Z"
    }
   },
   "id": "1883bfb0a5cb4c58"
  },
  {
   "cell_type": "code",
   "execution_count": 7,
   "outputs": [
    {
     "data": {
      "text/plain": "<Figure size 2500x400 with 20 Axes>",
      "image/png": "[encoded data removed]"
     },
     "metadata": {},
     "output_type": "display_data"
    }
   ],
   "source": [
    "dataiter = iter(training_loader)\n",
    "images, labels = next(dataiter)\n",
    "fig = plt.figure(figsize=(25, 4))\n",
    "\n",
    "for idx in np.arange(20):\n",
    "    ax = fig.add_subplot(2, 10, idx + 1, xticks=[], yticks=[])\n",
    "    plt.imshow(im_convert(images[idx]))\n",
    "    ax.set_title([labels[idx].item()])"
   ],
   "metadata": {
    "collapsed": false,
    "ExecuteTime": {
     "end_time": "2023-09-13T03:35:59.524401700Z",
     "start_time": "2023-09-13T03:35:57.694073Z"
    }
   },
   "id": "3419809c52814dbc"
  },
  {
   "cell_type": "code",
   "execution_count": 8,
   "outputs": [],
   "source": [
    " class Classifier(nn.Module):\n",
    "    def __init__(self, D_in, H1, H2, D_out):\n",
    "        super().__init__()\n",
    "        self.linear1 = nn.Linear(D_in, H1)\n",
    "        self.linear2 = nn.Linear(H1, H2)\n",
    "        self.linear3 = nn.Linear(H2, D_out)\n",
    "\n",
    "    def forward(self, x):\n",
    "        x = F.relu(self.linear1(x))\n",
    "        x = F.relu(self.linear2(x))\n",
    "        x = self.linear3(x)\n",
    "        return x"
   ],
   "metadata": {
    "collapsed": false,
    "ExecuteTime": {
     "end_time": "2023-09-13T03:35:59.524401700Z",
     "start_time": "2023-09-13T03:35:59.521387800Z"
    }
   },
   "id": "d05f0daaa8d004af"
  },
  {
   "cell_type": "code",
   "execution_count": 9,
   "outputs": [
    {
     "data": {
      "text/plain": "Classifier(\n  (linear1): Linear(in_features=784, out_features=125, bias=True)\n  (linear2): Linear(in_features=125, out_features=65, bias=True)\n  (linear3): Linear(in_features=65, out_features=10, bias=True)\n)"
     },
     "execution_count": 9,
     "metadata": {},
     "output_type": "execute_result"
    }
   ],
   "source": [
    "model = Classifier(784, 125, 65, 10).to(device)\n",
    "model"
   ],
   "metadata": {
    "collapsed": false,
    "ExecuteTime": {
     "end_time": "2023-09-13T03:35:59.536687100Z",
     "start_time": "2023-09-13T03:35:59.524401700Z"
    }
   },
   "id": "4402bedff597c5fe"
  },
  {
   "cell_type": "code",
   "execution_count": 10,
   "outputs": [],
   "source": [
    "# criterion = nn.CrossEntropyLoss()\n",
    "# optimizer = torch.optim.Adam(model.parameters(), lr=0.0001)"
   ],
   "metadata": {
    "collapsed": false,
    "ExecuteTime": {
     "end_time": "2023-09-13T03:35:59.536687100Z",
     "start_time": "2023-09-13T03:35:59.534169500Z"
    }
   },
   "id": "d656331ec5aefe86"
  },
  {
   "cell_type": "code",
   "execution_count": 11,
   "outputs": [],
   "source": [
    "# epochs = 15\n",
    "# running_loss_history = []\n",
    "# running_corrects_history = []\n",
    "# \n",
    "# test_running_loss_history = []\n",
    "# test_running_corrects_history = []\n",
    "# \n",
    "# for e in range(epochs):\n",
    "# \n",
    "#     running_loss = 0.0\n",
    "#     running_corrects = 0.0\n",
    "# \n",
    "#     test_running_loss = 0.0\n",
    "#     test_running_corrects = 0.0\n",
    "# \n",
    "#     for inputs, labels in training_loader:\n",
    "#         \n",
    "#         inputs = inputs.to(device)\n",
    "#         labels = labels.to(device)\n",
    "# \n",
    "#         inputs = inputs.view(inputs.shape[0], -1)\n",
    "#         outputs = model(inputs)\n",
    "#         loss = criterion(outputs, labels)\n",
    "# \n",
    "#         optimizer.zero_grad()\n",
    "#         loss.backward()\n",
    "#         optimizer.step()\n",
    "# \n",
    "#         _, preds = torch.max(outputs, 1)\n",
    "# \n",
    "#         running_loss += loss.item()\n",
    "#         running_corrects += torch.sum(preds == labels.data)\n",
    "# \n",
    "# \n",
    "#     else:\n",
    "#         with torch.no_grad():\n",
    "#             for test_inputs, test_labels in test_loader:\n",
    "#                 \n",
    "#                 test_inputs = inputs.to(device)\n",
    "#                 test_labels = labels.to(device)\n",
    "#                 \n",
    "#                 test_inputs = test_inputs.view(test_inputs.shape[0], -1)\n",
    "#                 test_outputs = model(test_inputs)\n",
    "#                 test_loss = criterion(test_outputs, test_labels)\n",
    "# \n",
    "#                 _, test_preds = torch.max(test_outputs, 1)\n",
    "#                 test_running_loss += test_loss.item()\n",
    "#                 test_running_corrects += torch.sum(test_preds == test_labels.data)\n",
    "# \n",
    "#         epoch_loss = running_loss / len(training_loader)\n",
    "#         epoch_accuracy = running_corrects.float() / len(training_loader)\n",
    "# \n",
    "#         running_loss_history.append(epoch_loss)\n",
    "#         running_corrects_history.append(epoch_accuracy)\n",
    "#         # ==========================//test//======================\n",
    "#         test_epoch_loss = test_running_loss / len(test_loader)\n",
    "#         test_epoch_accuracy = test_running_corrects.float() / len(test_loader)\n",
    "# \n",
    "#         test_running_loss_history.append(test_epoch_loss)\n",
    "#         test_running_corrects_history.append(test_epoch_accuracy)\n",
    "# \n",
    "#         print(f'epoch {e + 1}')\n",
    "#         print('training loss:{:.4f}, accuracy {:.4f}'.format(epoch_loss, epoch_accuracy.item()))\n",
    "#         print('test loss:{:.4f}, test accuracy {:.4f}'.format(test_epoch_loss, test_epoch_accuracy.item()))"
   ],
   "metadata": {
    "collapsed": false,
    "ExecuteTime": {
     "end_time": "2023-09-13T03:35:59.598652200Z",
     "start_time": "2023-09-13T03:35:59.537688200Z"
    }
   },
   "id": "74129c3383a4410"
  },
  {
   "cell_type": "code",
   "execution_count": 12,
   "outputs": [],
   "source": [
    "# plt.plot(running_loss_history, label='training loss')\n",
    "# plt.plot(test_running_loss_history, label='test loss')\n",
    "# plt.legend()"
   ],
   "metadata": {
    "collapsed": false,
    "ExecuteTime": {
     "end_time": "2023-09-13T03:35:59.598652200Z",
     "start_time": "2023-09-13T03:35:59.541589600Z"
    }
   },
   "id": "34d2d356c4c42a69"
  },
  {
   "cell_type": "code",
   "execution_count": 13,
   "outputs": [],
   "source": [
    "# # Assuming running_corrects_history is a list of PyTorch tensors\n",
    "# # Convert and move tensors to CPU and then convert to NumPy arrays\n",
    "# running_corrects_history_numpy = [tensor.cpu().numpy() for tensor in running_corrects_history]\n",
    "# test_running_corrects_history_numpy = [tensor.cpu().numpy() for tensor in test_running_corrects_history]\n",
    "# \n",
    "# plt.plot(running_corrects_history_numpy, label='accuracy')\n",
    "# plt.plot(test_running_corrects_history_numpy, label='test accuracy')\n"
   ],
   "metadata": {
    "collapsed": false,
    "ExecuteTime": {
     "end_time": "2023-09-13T03:35:59.598652200Z",
     "start_time": "2023-09-13T03:35:59.545594600Z"
    }
   },
   "id": "f44a8405f2f28e88"
  },
  {
   "cell_type": "code",
   "execution_count": 14,
   "outputs": [],
   "source": [
    "# # saving the model\n",
    "# \n",
    "# model_path = './trained-model/first-model'\n",
    "# torch.save(model.state_dict(), model_path)"
   ],
   "metadata": {
    "collapsed": false,
    "ExecuteTime": {
     "end_time": "2023-09-13T03:35:59.598652200Z",
     "start_time": "2023-09-13T03:35:59.551761Z"
    }
   },
   "id": "d3bd25357407587a"
  },
  {
   "cell_type": "code",
   "execution_count": 15,
   "outputs": [
    {
     "data": {
      "text/plain": "<All keys matched successfully>"
     },
     "execution_count": 15,
     "metadata": {},
     "output_type": "execute_result"
    }
   ],
   "source": [
    "# loading the model\n",
    "model = Classifier(784, 125, 65, 10).to(device)\n",
    "model_path = './trained-model/first-model'\n",
    "model.load_state_dict(torch.load(model_path))"
   ],
   "metadata": {
    "collapsed": false,
    "ExecuteTime": {
     "end_time": "2023-09-13T03:35:59.599652300Z",
     "start_time": "2023-09-13T03:35:59.554441500Z"
    }
   },
   "id": "a0ed4c6a1d6cd70f"
  },
  {
   "cell_type": "code",
   "execution_count": 21,
   "outputs": [
    {
     "data": {
      "text/plain": "<matplotlib.image.AxesImage at 0x2207ab5f050>"
     },
     "execution_count": 21,
     "metadata": {},
     "output_type": "execute_result"
    },
    {
     "data": {
      "text/plain": "<Figure size 640x480 with 1 Axes>",
      "image/png": "[encoded data removed]"
     },
     "metadata": {},
     "output_type": "display_data"
    }
   ],
   "source": [
    "import requests\n",
    "from PIL import Image\n",
    "import PIL.ImageOps\n",
    "\n",
    "url = 'https://m.media-amazon.com/images/I/61SGLu-zNQL._AC_SY355_.jpg'\n",
    "\n",
    "response = requests.get(url, stream=True)\n",
    "img = Image.open(response.raw)\n",
    "\n",
    "img = img.convert('L')\n",
    "# img = PIL.ImageOps.invert(img)\n",
    "img = transform(img)\n",
    "plt.imshow(im_convert(img))"
   ],
   "metadata": {
    "collapsed": false,
    "ExecuteTime": {
     "end_time": "2023-09-13T03:39:40.384990900Z",
     "start_time": "2023-09-13T03:39:39.794909700Z"
    }
   },
   "id": "49b5ced1a95bfac9"
  },
  {
   "cell_type": "code",
   "execution_count": 22,
   "outputs": [
    {
     "name": "stdout",
     "output_type": "stream",
     "text": [
      "7\n"
     ]
    }
   ],
   "source": [
    "img = img.to(device)\n",
    "img = img.view(img.shape[0], -1)\n",
    "test_outputs = model(img)\n",
    "_, pred = torch.max(test_outputs, 1)\n",
    "\n",
    "print(pred.item())"
   ],
   "metadata": {
    "collapsed": false,
    "ExecuteTime": {
     "end_time": "2023-09-13T03:39:42.594828500Z",
     "start_time": "2023-09-13T03:39:42.585635900Z"
    }
   },
   "id": "f2ef8fe8e58ec3fa"
  },
  {
   "cell_type": "code",
   "execution_count": 20,
   "outputs": [
    {
     "data": {
      "text/plain": "<Figure size 2500x400 with 20 Axes>",
      "image/png": "[encoded data removed]"
     },
     "metadata": {},
     "output_type": "display_data"
    }
   ],
   "source": [
    "dataiter = iter(test_loader)\n",
    "images, labels = next(dataiter)\n",
    "\n",
    "images = images.to(device)\n",
    "\n",
    "images_ = images.view(images.shape[0], -1)\n",
    "output = model(images_)\n",
    "_, preds = torch.max(output, 1)\n",
    "\n",
    "fig = plt.figure(figsize=(25, 4))\n",
    "\n",
    "# running_corrects_history_numpy = [tensor.cpu().numpy() for tensor in running_corrects_history]\n",
    "\n",
    "\n",
    "for idx in np.arange(20):\n",
    "    ax = fig.add_subplot(2, 10, idx + 1, xticks=[], yticks=[])\n",
    "    plt.imshow(im_convert(images[idx]))\n",
    "    ax.set_title(\n",
    "        \"{} ({})\".format(str(preds[idx].item()), str(labels[idx].item())),\n",
    "        color=('green' if preds[idx] == labels[idx] else \"red\"))"
   ],
   "metadata": {
    "collapsed": false,
    "ExecuteTime": {
     "end_time": "2023-09-13T03:37:40.704177800Z",
     "start_time": "2023-09-13T03:37:39.999710400Z"
    }
   },
   "id": "27f765b6b5829b68"
  },
  {
   "cell_type": "code",
   "execution_count": null,
   "outputs": [],
   "source": [],
   "metadata": {
    "collapsed": false
   },
   "id": "98d71bc578fdae5b"
  }
 ],
 "metadata": {
  "kernelspec": {
   "display_name": "Python 3",
   "language": "python",
   "name": "python3"
  },
  "language_info": {
   "codemirror_mode": {
    "name": "ipython",
    "version": 2
   },
   "file_extension": ".py",
   "mimetype": "text/x-python",
   "name": "python",
   "nbconvert_exporter": "python",
   "pygments_lexer": "ipython2",
   "version": "2.7.6"
  }
 },
 "nbformat": 4,
 "nbformat_minor": 5
}
